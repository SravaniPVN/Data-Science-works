{
 "metadata": {
  "name": "",
  "signature": "sha256:64fcd932a2df012a6661856484ca2514511d6110bfc5332bd6ef90085beba879"
 },
 "nbformat": 3,
 "nbformat_minor": 0,
 "worksheets": [
  {
   "cells": [
    {
     "cell_type": "markdown",
     "metadata": {},
     "source": [
      "**Solved Questions**"
     ]
    },
    {
     "cell_type": "code",
     "collapsed": false,
     "input": [
      "#Write code that would accept radius (a number ) from user input, and compute area of a circle\n",
      "from math import pi\n",
      "r = float(input (\"Input the radius of the circle : \"))\n",
      "print (\"The area of the circle with radius \" + str(r) + \" is: \" + str(pi * r**2))"
     ],
     "language": "python",
     "metadata": {},
     "outputs": []
    },
    {
     "cell_type": "code",
     "collapsed": false,
     "input": [
      "#Write code to print first and last element from the given (or in general any) list:\n",
      "#color_list = [\"Red\",\"Green\",\"White\" ,\"Black\"]\n",
      "color_list = [\"Red\",\"Green\",\"White\" ,\"Black\"]\n",
      "print( \"%s %s\"%(color_list[0],color_list[-1]))"
     ],
     "language": "python",
     "metadata": {},
     "outputs": []
    },
    {
     "cell_type": "code",
     "collapsed": false,
     "input": [
      "#Write code to calculate number of days between two dates. You would be making use of datetime package\n",
      "from datetime import date\n",
      "\n",
      "f_date = date(2014, 7, 2)\n",
      "l_date = date(2014, 7, 11)\n",
      "delta = l_date - f_date\n",
      "print(delta.days)"
     ],
     "language": "python",
     "metadata": {},
     "outputs": []
    },
    {
     "cell_type": "code",
     "collapsed": false,
     "input": [
      "#Write code o get the difference between a given number and 17, if the number is greater than 17 return double the absolute difference.\n",
      "def difference(n):\n",
      "    if n <= 17:\n",
      "        return 17 - n\n",
      "    else:\n",
      "        return (n - 17) * 2 \n",
      "\n",
      "print(difference(22))\n",
      "print(difference(14))"
     ],
     "language": "python",
     "metadata": {},
     "outputs": []
    },
    {
     "cell_type": "code",
     "collapsed": false,
     "input": [
      "#Write code to calculate the sum of three given numbers, if the values are equal then return thrice of their sum.\n",
      "def sum_thrice(x, y, z):\n",
      "\n",
      "     sum = x + y + z\n",
      "  \n",
      "     if x == y == z:\n",
      "      sum = sum * 3\n",
      "     return sum\n",
      "\n",
      "print(sum_thrice(1, 2, 3))\n",
      "print(sum_thrice(3, 3, 3))"
     ],
     "language": "python",
     "metadata": {},
     "outputs": []
    },
    {
     "cell_type": "code",
     "collapsed": false,
     "input": [
      "#Write code to find whether a given number (accept from the user) is even or odd, print out an appropriate message to the user.\n",
      "num = int(input(\"Enter a number: \"))\n",
      "mod = num % 2\n",
      "if mod > 0:\n",
      "    print(\"This is an odd number.\")\n",
      "else:\n",
      "    print(\"This is an even number.\")"
     ],
     "language": "python",
     "metadata": {},
     "outputs": []
    },
    {
     "cell_type": "code",
     "collapsed": false,
     "input": [
      "#Write code to test whether a passed letter is a vowel or not.\n",
      "def is_vowel(char):\n",
      "    all_vowels = 'aeiou'\n",
      "    return char in all_vowels\n",
      "print(is_vowel('c'))\n",
      "print(is_vowel('e'))"
     ],
     "language": "python",
     "metadata": {},
     "outputs": []
    },
    {
     "cell_type": "code",
     "collapsed": false,
     "input": [
      "#Write code to concatenate all elements in a list into a string and return it.\n",
      "def concatenate_list_data(list):\n",
      "    result= ''\n",
      "    for element in list:\n",
      "        result += str(element)\n",
      "    return result\n",
      "\n",
      "print(concatenate_list_data([1, 5, 12, 2]))"
     ],
     "language": "python",
     "metadata": {},
     "outputs": []
    },
    {
     "cell_type": "code",
     "collapsed": false,
     "input": [
      "#Write code to check whether a file exists on your computer (given the path).\n",
      "import os.path\n",
      "open('abc.txt', 'w')\n",
      "print(os.path.isfile('abc.txt'))"
     ],
     "language": "python",
     "metadata": {},
     "outputs": []
    },
    {
     "cell_type": "code",
     "collapsed": false,
     "input": [
      "#Write code to sort files in a directory by date. By default it takes the default directory. You can change it by specifying a different directory\n",
      "import glob\n",
      "import os\n",
      "\n",
      "files = glob.glob(\"*.txt\")\n",
      "files.sort(key=os.path.getmtime)\n",
      "print(\"\\n\".join(files))"
     ],
     "language": "python",
     "metadata": {},
     "outputs": []
    },
    {
     "cell_type": "code",
     "collapsed": false,
     "input": [
      "#Write code to to convert temperatures to and from celsius, fahrenheit.\n",
      "temp = raw_input(\"Input the  temperature you like to convert? (e.g., 45F, 102C etc.) : \")\n",
      "degree = int(temp[:-1])\n",
      "i_convention = temp[-1]\n",
      "\n",
      "if i_convention.upper() == \"C\":\n",
      "  result = int(round((9 * degree) / 5 + 32))\n",
      "  o_convention = \"Fahrenheit\"\n",
      "elif i_convention.upper() == \"F\":\n",
      "  result = int(round((degree - 32) * 5 / 9))\n",
      "  o_convention = \"Celsius\"\n",
      "else:\n",
      "  print(\"Input proper convention.\")\n",
      "  quit()\n",
      "print(\"The temperature in\", o_convention, \"is\", result, \"degrees.\")\n"
     ],
     "language": "python",
     "metadata": {},
     "outputs": []
    },
    {
     "cell_type": "code",
     "collapsed": false,
     "input": [
      "#Write code that accepts a string and calculate the number of digits and letters.\n",
      "s = raw_input(\"Input a string\")\n",
      "d=l=0\n",
      "for c in s:\n",
      "    if c.isdigit():\n",
      "        d=d+1\n",
      "    elif c.isalpha():\n",
      "        l=l+1\n",
      "    else:\n",
      "        pass\n",
      "print(\"Letters\", l)\n",
      "print(\"Digits\", d)"
     ],
     "language": "python",
     "metadata": {},
     "outputs": []
    },
    {
     "cell_type": "markdown",
     "metadata": {},
     "source": [
      "Write code to check the validity of password input by users. \n",
      "Validation :\n",
      "At least 1 letter between [a-z] and 1 letter between [A-Z].\n",
      "At least 1 number between [0-9].\n",
      "At least 1 character from [$#@].\n",
      "Minimum length 6 characters.\n",
      "Maximum length 16 characters.\n",
      "\n",
      "Hint: we are using regular expressions here. re is the package for that"
     ]
    },
    {
     "cell_type": "code",
     "collapsed": false,
     "input": [
      "import re\n",
      "p= raw_input(\"Input your password\")\n",
      "x = True\n",
      "while x:  \n",
      "    if (len(p)<6 or len(p)>12):\n",
      "        break\n",
      "    elif not re.search(\"[a-z]\",p):\n",
      "        break\n",
      "    elif not re.search(\"[0-9]\",p):\n",
      "        break\n",
      "    elif not re.search(\"[A-Z]\",p):\n",
      "        break\n",
      "    elif not re.search(\"[$#@]\",p):\n",
      "        break\n",
      "    elif re.search(\"\\s\",p):\n",
      "        break\n",
      "    else:\n",
      "        print(\"Valid Password\")\n",
      "        x=False\n",
      "        break\n",
      "\n",
      "if x:\n",
      "    print(\"Not a Valid Password\")"
     ],
     "language": "python",
     "metadata": {},
     "outputs": []
    },
    {
     "cell_type": "markdown",
     "metadata": {},
     "source": [
      "Write code to concatenate following dictionaries to create a new one.\n",
      "Sample Dictionary : \n",
      "dic1={1:10, 2:20} \n",
      "dic2={3:30, 4:40} \n",
      "dic3={5:50,6:60}\n",
      "Expected Result : {1: 10, 2: 20, 3: 30, 4: 40, 5: 50, 6: 60}"
     ]
    },
    {
     "cell_type": "code",
     "collapsed": false,
     "input": [
      "dic1={1:10, 2:20}\n",
      "dic2={3:30, 4:40}\n",
      "dic3={5:50,6:60}\n",
      "dic4 = {}\n",
      "for d in (dic1, dic2, dic3): dic4.update(d)\n",
      "print(dic4)"
     ],
     "language": "python",
     "metadata": {},
     "outputs": []
    },
    {
     "cell_type": "code",
     "collapsed": false,
     "input": [
      "#Write code to check if a given key already exists in a dictionary.\n",
      "d = {1: 10, 2: 20, 3: 30, 4: 40, 5: 50, 6: 60}\n",
      "def is_key_present(x):\n",
      "  if x in d:\n",
      "      print('Key is present in the dictionary')\n",
      "  else:\n",
      "      print('Key is not present in the dictionary')\n",
      "is_key_present(5)\n",
      "is_key_present(9)"
     ],
     "language": "python",
     "metadata": {},
     "outputs": []
    },
    {
     "cell_type": "code",
     "collapsed": false,
     "input": [
      "#Write code to print a dictionary where the keys are numbers between 1 and 15 (both included) and the values are square of keys.\n",
      "#Sample Dictionary {1: 1, 2: 4, 3: 9, 4: 16, 5: 25, 6: 36, 7: 49, 8: 64, 9: 81, 10: 100, 11: 121, 12: 144, 13: 169, 14: 196, 15: 225}\n",
      "d=dict()\n",
      "for x in range(1,16):\n",
      "    d[x]=x**2\n",
      "print(d)"
     ],
     "language": "python",
     "metadata": {},
     "outputs": []
    },
    {
     "cell_type": "markdown",
     "metadata": {},
     "source": [
      "**Unsolved Practice Questions**"
     ]
    },
    {
     "cell_type": "markdown",
     "metadata": {},
     "source": [
      "1) Define a function reverse() that computes the reversal of a string. For example, reverse(\"I am testing\") should return the string \"gnitset ma I\"."
     ]
    },
    {
     "cell_type": "markdown",
     "metadata": {},
     "source": [
      "2) Define a function max_of_three() that takes three numbers as arguments and returns the largest of them."
     ]
    },
    {
     "cell_type": "markdown",
     "metadata": {},
     "source": [
      "3) Define a function sum() and a function multiply() that sums and multiplies (respectively) all the numbers in a list of numbers. For example, sum([1, 2, 3, 4]) should return 10, and multiply([1, 2, 3, 4]) should return 24."
     ]
    },
    {
     "cell_type": "markdown",
     "metadata": {},
     "source": [
      "4) Write a function find_longest_word() that takes a list of words and returns the length of the longest one."
     ]
    },
    {
     "cell_type": "markdown",
     "metadata": {},
     "source": [
      "5) \"99 Bottles of Beer\" is a traditional song in the United States and Canada. It is popular to sing on long trips, as it has a very repetitive format which is easy to memorize, and can take a long time to sing. The song's simple lyrics are as follows:\n",
      "\n",
      "99 bottles of beer on the wall, 99 bottles of beer.\n",
      "Take one down, pass it around, 98 bottles of beer on the wall.\n",
      "\n",
      "The same verse is repeated, each time with one fewer bottle. The song is completed when the singer or singers reach zero.\n",
      "\n",
      "Your task here is write a Python program capable of generating all the verses of the song."
     ]
    },
    {
     "cell_type": "markdown",
     "metadata": {},
     "source": [
      "6) Write a program that will calculate the average word length of a text stored in a file (i.e the sum of all the lengths of the word tokens in the text, divided by the number of word tokens)."
     ]
    },
    {
     "cell_type": "markdown",
     "metadata": {},
     "source": [
      "7) This is a relatively tough exercise\n",
      "\n",
      "A sentence splitter is a program capable of splitting a text into sentences. The standard set of heuristics for sentence splitting includes (but isn't limited to) the following rules:\n",
      "\n",
      "Sentence boundaries occur at one of \".\" (periods), \"?\" or \"!\", except that\n",
      "\n",
      "Periods followed by whitespace followed by a lower case letter are not sentence boundaries.\n",
      "Periods followed by a digit with no intervening whitespace are not sentence boundaries.\n",
      "Periods followed by whitespace and then an upper case letter, but preceded by any of a short list of titles are not sentence boundaries. Sample titles include Mr., Mrs., Dr., and so on.\n",
      "Periods internal to a sequence of letters with no adjacent whitespace are not sentence boundaries (for example, www.aptex.com, or e.g).\n",
      "Periods followed by certain kinds of punctuation (notably comma and more periods) are probably not sentence boundaries.\n",
      "Your task here is to write a program that given the name of a text file is able to write its content with each sentence on a separate line. Test your program with the following short text: Mr. Smith bought cheapsite.com for 1.5 million dollars, i.e. he paid a lot for it. Did he mind? Adam Jones Jr. thinks he didn't. In any case, this isn't true... Well, with a probability of .9 it isn't. The result should be:\n",
      "\n",
      "Mr. Smith bought cheapsite.com for 1.5 million dollars, i.e. he paid a lot for it.\n",
      "Did he mind?\n",
      "Adam Jones Jr. thinks he didn't.\n",
      "In any case, this isn't true...\n",
      "Well, with a probability of .9 it isn't."
     ]
    }
   ],
   "metadata": {}
  }
 ]
}